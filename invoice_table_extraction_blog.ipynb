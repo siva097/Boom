{
 "cells": [
  {
   "cell_type": "markdown",
   "id": "6a5e45d8",
   "metadata": {},
   "source": [
    "## Table detection and Table data extraction from Invoices"
   ]
  },
  {
   "cell_type": "markdown",
   "id": "a4cb7d8e",
   "metadata": {},
   "source": [
    "* Extracting table information from invoices is a necessary task for many companies. Lot of human effort is need to achieve it. The automation of this task will save human effort, time and money for companies. \n",
    "* To automate this process, the first challenge is to detect the table in an invoice image, which is not easy as the invoices differ based on the company and its purpose. And few invoices have structured and borderd tables and the other invoices may contain line by line data which looks structured like table. So, the program should first try to identify the table, and then should extract rows data from it. Borders tables might be identified with the line pattens, but to detect the unstructured and non-bordered tables we should write a program that understands the structure of the data, like we should train the program with more invoices that contains the labelled tables.\n",
    "* As the power Artificial intelligence is growing time to time, there are good techniques that will learn from given data and can identify similar objects from the unseen images. These object detection algorithms have the Convolution Nueral networks as its base form, will be trained with the table like structure, as the data is more and diverse the learning capability increases. There are lot of variants of CNN to understand and detect objects in an image, we will analyse those soon.\n",
    "* Once the table region is detected, that table image will be fed to table data extraction function, which is our custom function to detect columns and rows of table, and we also identify the text inside each table cell using tessaract-ocr which is a popular tool or library from google."
   ]
  },
  {
   "cell_type": "code",
   "execution_count": null,
   "id": "87d672bd",
   "metadata": {},
   "outputs": [],
   "source": []
  }
 ],
 "metadata": {
  "kernelspec": {
   "display_name": "Python 3 (ipykernel)",
   "language": "python",
   "name": "python3"
  },
  "language_info": {
   "codemirror_mode": {
    "name": "ipython",
    "version": 3
   },
   "file_extension": ".py",
   "mimetype": "text/x-python",
   "name": "python",
   "nbconvert_exporter": "python",
   "pygments_lexer": "ipython3",
   "version": "3.9.2"
  }
 },
 "nbformat": 4,
 "nbformat_minor": 5
}
